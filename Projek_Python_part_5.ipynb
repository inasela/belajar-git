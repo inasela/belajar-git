{
  "nbformat": 4,
  "nbformat_minor": 0,
  "metadata": {
    "colab": {
      "provenance": []
    },
    "kernelspec": {
      "name": "python3",
      "display_name": "Python 3"
    },
    "language_info": {
      "name": "python"
    }
  },
  "cells": [
    {
      "cell_type": "markdown",
      "source": [
        "##Task 1: Basic OOP\n",
        "\n",
        "\n"
      ],
      "metadata": {
        "id": "ztNT831LJAU-"
      }
    },
    {
      "cell_type": "code",
      "source": [
        "import pandas as pd"
      ],
      "metadata": {
        "id": "zg3TIjlNdWu6"
      },
      "execution_count": 5,
      "outputs": []
    },
    {
      "cell_type": "markdown",
      "source": [
        "\n",
        "\n",
        "*   extract(): akan membaca data dari sebuah file CSV (Misalkan, marketing_data.csv)\n",
        "\n"
      ],
      "metadata": {
        "id": "4h1H0FXB72Un"
      }
    },
    {
      "cell_type": "code",
      "source": [
        "df = pd.read_csv('/content/marketing_data.csv')"
      ],
      "metadata": {
        "id": "GBsTpjGV_DiV"
      },
      "execution_count": 6,
      "outputs": []
    },
    {
      "cell_type": "code",
      "source": [
        "df"
      ],
      "metadata": {
        "colab": {
          "base_uri": "https://localhost:8080/",
          "height": 300
        },
        "id": "Y3H_I9ntdixt",
        "outputId": "f6b09e6f-538e-4287-a150-c226554fc883"
      },
      "execution_count": 65,
      "outputs": [
        {
          "output_type": "execute_result",
          "data": {
            "text/plain": [
              "  customer_id;purchase_date;product_category;amount_spent\n",
              "0                      C001;01/03/23;Electronics;250     \n",
              "1                           C002;02/03/23;Books;45.5     \n",
              "2                 C003;03/03/23;Home & Garden;150.75     \n",
              "3                             C001;04/03/23;Books;20     \n",
              "4                      C002;05/03/23;Electronics;525     \n",
              "5                           C004;;Electronics;399.99     \n",
              "6                                   C003;;Books;10.5     \n",
              "7                            C005;07/03/23;Beauty;75     "
            ],
            "text/html": [
              "\n",
              "  <div id=\"df-b3aeda5c-902a-4dd7-a007-7bb34d2c0c71\" class=\"colab-df-container\">\n",
              "    <div>\n",
              "<style scoped>\n",
              "    .dataframe tbody tr th:only-of-type {\n",
              "        vertical-align: middle;\n",
              "    }\n",
              "\n",
              "    .dataframe tbody tr th {\n",
              "        vertical-align: top;\n",
              "    }\n",
              "\n",
              "    .dataframe thead th {\n",
              "        text-align: right;\n",
              "    }\n",
              "</style>\n",
              "<table border=\"1\" class=\"dataframe\">\n",
              "  <thead>\n",
              "    <tr style=\"text-align: right;\">\n",
              "      <th></th>\n",
              "      <th>customer_id;purchase_date;product_category;amount_spent</th>\n",
              "    </tr>\n",
              "  </thead>\n",
              "  <tbody>\n",
              "    <tr>\n",
              "      <th>0</th>\n",
              "      <td>C001;01/03/23;Electronics;250</td>\n",
              "    </tr>\n",
              "    <tr>\n",
              "      <th>1</th>\n",
              "      <td>C002;02/03/23;Books;45.5</td>\n",
              "    </tr>\n",
              "    <tr>\n",
              "      <th>2</th>\n",
              "      <td>C003;03/03/23;Home &amp; Garden;150.75</td>\n",
              "    </tr>\n",
              "    <tr>\n",
              "      <th>3</th>\n",
              "      <td>C001;04/03/23;Books;20</td>\n",
              "    </tr>\n",
              "    <tr>\n",
              "      <th>4</th>\n",
              "      <td>C002;05/03/23;Electronics;525</td>\n",
              "    </tr>\n",
              "    <tr>\n",
              "      <th>5</th>\n",
              "      <td>C004;;Electronics;399.99</td>\n",
              "    </tr>\n",
              "    <tr>\n",
              "      <th>6</th>\n",
              "      <td>C003;;Books;10.5</td>\n",
              "    </tr>\n",
              "    <tr>\n",
              "      <th>7</th>\n",
              "      <td>C005;07/03/23;Beauty;75</td>\n",
              "    </tr>\n",
              "  </tbody>\n",
              "</table>\n",
              "</div>\n",
              "    <div class=\"colab-df-buttons\">\n",
              "\n",
              "  <div class=\"colab-df-container\">\n",
              "    <button class=\"colab-df-convert\" onclick=\"convertToInteractive('df-b3aeda5c-902a-4dd7-a007-7bb34d2c0c71')\"\n",
              "            title=\"Convert this dataframe to an interactive table.\"\n",
              "            style=\"display:none;\">\n",
              "\n",
              "  <svg xmlns=\"http://www.w3.org/2000/svg\" height=\"24px\" viewBox=\"0 -960 960 960\">\n",
              "    <path d=\"M120-120v-720h720v720H120Zm60-500h600v-160H180v160Zm220 220h160v-160H400v160Zm0 220h160v-160H400v160ZM180-400h160v-160H180v160Zm440 0h160v-160H620v160ZM180-180h160v-160H180v160Zm440 0h160v-160H620v160Z\"/>\n",
              "  </svg>\n",
              "    </button>\n",
              "\n",
              "  <style>\n",
              "    .colab-df-container {\n",
              "      display:flex;\n",
              "      gap: 12px;\n",
              "    }\n",
              "\n",
              "    .colab-df-convert {\n",
              "      background-color: #E8F0FE;\n",
              "      border: none;\n",
              "      border-radius: 50%;\n",
              "      cursor: pointer;\n",
              "      display: none;\n",
              "      fill: #1967D2;\n",
              "      height: 32px;\n",
              "      padding: 0 0 0 0;\n",
              "      width: 32px;\n",
              "    }\n",
              "\n",
              "    .colab-df-convert:hover {\n",
              "      background-color: #E2EBFA;\n",
              "      box-shadow: 0px 1px 2px rgba(60, 64, 67, 0.3), 0px 1px 3px 1px rgba(60, 64, 67, 0.15);\n",
              "      fill: #174EA6;\n",
              "    }\n",
              "\n",
              "    .colab-df-buttons div {\n",
              "      margin-bottom: 4px;\n",
              "    }\n",
              "\n",
              "    [theme=dark] .colab-df-convert {\n",
              "      background-color: #3B4455;\n",
              "      fill: #D2E3FC;\n",
              "    }\n",
              "\n",
              "    [theme=dark] .colab-df-convert:hover {\n",
              "      background-color: #434B5C;\n",
              "      box-shadow: 0px 1px 3px 1px rgba(0, 0, 0, 0.15);\n",
              "      filter: drop-shadow(0px 1px 2px rgba(0, 0, 0, 0.3));\n",
              "      fill: #FFFFFF;\n",
              "    }\n",
              "  </style>\n",
              "\n",
              "    <script>\n",
              "      const buttonEl =\n",
              "        document.querySelector('#df-b3aeda5c-902a-4dd7-a007-7bb34d2c0c71 button.colab-df-convert');\n",
              "      buttonEl.style.display =\n",
              "        google.colab.kernel.accessAllowed ? 'block' : 'none';\n",
              "\n",
              "      async function convertToInteractive(key) {\n",
              "        const element = document.querySelector('#df-b3aeda5c-902a-4dd7-a007-7bb34d2c0c71');\n",
              "        const dataTable =\n",
              "          await google.colab.kernel.invokeFunction('convertToInteractive',\n",
              "                                                    [key], {});\n",
              "        if (!dataTable) return;\n",
              "\n",
              "        const docLinkHtml = 'Like what you see? Visit the ' +\n",
              "          '<a target=\"_blank\" href=https://colab.research.google.com/notebooks/data_table.ipynb>data table notebook</a>'\n",
              "          + ' to learn more about interactive tables.';\n",
              "        element.innerHTML = '';\n",
              "        dataTable['output_type'] = 'display_data';\n",
              "        await google.colab.output.renderOutput(dataTable, element);\n",
              "        const docLink = document.createElement('div');\n",
              "        docLink.innerHTML = docLinkHtml;\n",
              "        element.appendChild(docLink);\n",
              "      }\n",
              "    </script>\n",
              "  </div>\n",
              "\n",
              "\n",
              "<div id=\"df-baccea29-15dd-4e50-acda-acc27d16e71d\">\n",
              "  <button class=\"colab-df-quickchart\" onclick=\"quickchart('df-baccea29-15dd-4e50-acda-acc27d16e71d')\"\n",
              "            title=\"Suggest charts\"\n",
              "            style=\"display:none;\">\n",
              "\n",
              "<svg xmlns=\"http://www.w3.org/2000/svg\" height=\"24px\"viewBox=\"0 0 24 24\"\n",
              "     width=\"24px\">\n",
              "    <g>\n",
              "        <path d=\"M19 3H5c-1.1 0-2 .9-2 2v14c0 1.1.9 2 2 2h14c1.1 0 2-.9 2-2V5c0-1.1-.9-2-2-2zM9 17H7v-7h2v7zm4 0h-2V7h2v10zm4 0h-2v-4h2v4z\"/>\n",
              "    </g>\n",
              "</svg>\n",
              "  </button>\n",
              "\n",
              "<style>\n",
              "  .colab-df-quickchart {\n",
              "      --bg-color: #E8F0FE;\n",
              "      --fill-color: #1967D2;\n",
              "      --hover-bg-color: #E2EBFA;\n",
              "      --hover-fill-color: #174EA6;\n",
              "      --disabled-fill-color: #AAA;\n",
              "      --disabled-bg-color: #DDD;\n",
              "  }\n",
              "\n",
              "  [theme=dark] .colab-df-quickchart {\n",
              "      --bg-color: #3B4455;\n",
              "      --fill-color: #D2E3FC;\n",
              "      --hover-bg-color: #434B5C;\n",
              "      --hover-fill-color: #FFFFFF;\n",
              "      --disabled-bg-color: #3B4455;\n",
              "      --disabled-fill-color: #666;\n",
              "  }\n",
              "\n",
              "  .colab-df-quickchart {\n",
              "    background-color: var(--bg-color);\n",
              "    border: none;\n",
              "    border-radius: 50%;\n",
              "    cursor: pointer;\n",
              "    display: none;\n",
              "    fill: var(--fill-color);\n",
              "    height: 32px;\n",
              "    padding: 0;\n",
              "    width: 32px;\n",
              "  }\n",
              "\n",
              "  .colab-df-quickchart:hover {\n",
              "    background-color: var(--hover-bg-color);\n",
              "    box-shadow: 0 1px 2px rgba(60, 64, 67, 0.3), 0 1px 3px 1px rgba(60, 64, 67, 0.15);\n",
              "    fill: var(--button-hover-fill-color);\n",
              "  }\n",
              "\n",
              "  .colab-df-quickchart-complete:disabled,\n",
              "  .colab-df-quickchart-complete:disabled:hover {\n",
              "    background-color: var(--disabled-bg-color);\n",
              "    fill: var(--disabled-fill-color);\n",
              "    box-shadow: none;\n",
              "  }\n",
              "\n",
              "  .colab-df-spinner {\n",
              "    border: 2px solid var(--fill-color);\n",
              "    border-color: transparent;\n",
              "    border-bottom-color: var(--fill-color);\n",
              "    animation:\n",
              "      spin 1s steps(1) infinite;\n",
              "  }\n",
              "\n",
              "  @keyframes spin {\n",
              "    0% {\n",
              "      border-color: transparent;\n",
              "      border-bottom-color: var(--fill-color);\n",
              "      border-left-color: var(--fill-color);\n",
              "    }\n",
              "    20% {\n",
              "      border-color: transparent;\n",
              "      border-left-color: var(--fill-color);\n",
              "      border-top-color: var(--fill-color);\n",
              "    }\n",
              "    30% {\n",
              "      border-color: transparent;\n",
              "      border-left-color: var(--fill-color);\n",
              "      border-top-color: var(--fill-color);\n",
              "      border-right-color: var(--fill-color);\n",
              "    }\n",
              "    40% {\n",
              "      border-color: transparent;\n",
              "      border-right-color: var(--fill-color);\n",
              "      border-top-color: var(--fill-color);\n",
              "    }\n",
              "    60% {\n",
              "      border-color: transparent;\n",
              "      border-right-color: var(--fill-color);\n",
              "    }\n",
              "    80% {\n",
              "      border-color: transparent;\n",
              "      border-right-color: var(--fill-color);\n",
              "      border-bottom-color: var(--fill-color);\n",
              "    }\n",
              "    90% {\n",
              "      border-color: transparent;\n",
              "      border-bottom-color: var(--fill-color);\n",
              "    }\n",
              "  }\n",
              "</style>\n",
              "\n",
              "  <script>\n",
              "    async function quickchart(key) {\n",
              "      const quickchartButtonEl =\n",
              "        document.querySelector('#' + key + ' button');\n",
              "      quickchartButtonEl.disabled = true;  // To prevent multiple clicks.\n",
              "      quickchartButtonEl.classList.add('colab-df-spinner');\n",
              "      try {\n",
              "        const charts = await google.colab.kernel.invokeFunction(\n",
              "            'suggestCharts', [key], {});\n",
              "      } catch (error) {\n",
              "        console.error('Error during call to suggestCharts:', error);\n",
              "      }\n",
              "      quickchartButtonEl.classList.remove('colab-df-spinner');\n",
              "      quickchartButtonEl.classList.add('colab-df-quickchart-complete');\n",
              "    }\n",
              "    (() => {\n",
              "      let quickchartButtonEl =\n",
              "        document.querySelector('#df-baccea29-15dd-4e50-acda-acc27d16e71d button');\n",
              "      quickchartButtonEl.style.display =\n",
              "        google.colab.kernel.accessAllowed ? 'block' : 'none';\n",
              "    })();\n",
              "  </script>\n",
              "</div>\n",
              "    </div>\n",
              "  </div>\n"
            ],
            "application/vnd.google.colaboratory.intrinsic+json": {
              "type": "dataframe",
              "variable_name": "df",
              "summary": "{\n  \"name\": \"df\",\n  \"rows\": 8,\n  \"fields\": [\n    {\n      \"column\": \"customer_id;purchase_date;product_category;amount_spent\",\n      \"properties\": {\n        \"dtype\": \"string\",\n        \"num_unique_values\": 8,\n        \"samples\": [\n          \"C002;02/03/23;Books;45.5\",\n          \"C004;;Electronics;399.99\",\n          \"C001;01/03/23;Electronics;250\"\n        ],\n        \"semantic_type\": \"\",\n        \"description\": \"\"\n      }\n    }\n  ]\n}"
            }
          },
          "metadata": {},
          "execution_count": 65
        }
      ]
    },
    {
      "cell_type": "markdown",
      "source": [
        "\n",
        "\n",
        "*   transform(): akan melakukan pembersihan dan transformasi sederhana pada data (seperti mengubah format tanggal atau membersihkan nilai yang kosong)\n",
        "\n"
      ],
      "metadata": {
        "id": "9cg5IMW_86MY"
      }
    },
    {
      "cell_type": "markdown",
      "source": [
        "Mengisi data yang kosong"
      ],
      "metadata": {
        "id": "3pmMP2gR9Fhe"
      }
    },
    {
      "cell_type": "code",
      "source": [
        "df = pd.DataFrame({'purchase_date': ['01/03/23', '02/03/23', '03/03/23', '04/03/23', '05/03/23', None, None, '07/03/23']})\n",
        "\n"
      ],
      "metadata": {
        "id": "tzNkxPHCBk7N"
      },
      "execution_count": 13,
      "outputs": []
    },
    {
      "cell_type": "code",
      "source": [
        "df['purchase_date'].fillna('06/03/23', inplace=True)\n",
        "df['purchase_date'].fillna('08/03/23', inplace=True)\n"
      ],
      "metadata": {
        "id": "qpfrrFW4Vf8u"
      },
      "execution_count": 18,
      "outputs": []
    },
    {
      "cell_type": "code",
      "source": [
        "print(df)"
      ],
      "metadata": {
        "colab": {
          "base_uri": "https://localhost:8080/"
        },
        "id": "MNWUVJV0ZsK7",
        "outputId": "9cc8bbdb-9c27-45cd-daaa-babf2c9f2ad0"
      },
      "execution_count": 19,
      "outputs": [
        {
          "output_type": "stream",
          "name": "stdout",
          "text": [
            "  purchase_date\n",
            "0      01/03/23\n",
            "1      02/03/23\n",
            "2      03/03/23\n",
            "3      04/03/23\n",
            "4      05/03/23\n",
            "5      06/03/23\n",
            "6      06/03/23\n",
            "7      07/03/23\n"
          ]
        }
      ]
    },
    {
      "cell_type": "markdown",
      "source": [
        "Mengubah sebagian isi di kolom purchase_date dan customer_id"
      ],
      "metadata": {
        "id": "cGkv9StR9lV1"
      }
    },
    {
      "cell_type": "code",
      "source": [
        "df = pd.DataFrame({'purchase_date': [ '01/03/23',  '02/03/23',  '03/03/23', '04/03/23', '05/03/23',  '06/03/23',  '06/03/23',   '07/03/23']})"
      ],
      "metadata": {
        "id": "lgtVDkP6auza"
      },
      "execution_count": 8,
      "outputs": []
    },
    {
      "cell_type": "code",
      "source": [
        "df.loc[6, 'purchase_date'] ='07/03/23'\n",
        "df.loc[7, 'purchase_date'] ='08/03/23'"
      ],
      "metadata": {
        "id": "vNb3N0QWbv2A"
      },
      "execution_count": 20,
      "outputs": []
    },
    {
      "cell_type": "code",
      "source": [
        "print(df)"
      ],
      "metadata": {
        "colab": {
          "base_uri": "https://localhost:8080/"
        },
        "id": "jaTfaZkEcUGm",
        "outputId": "75ff196a-5e89-4fc5-b418-1478f546fc88"
      },
      "execution_count": 21,
      "outputs": [
        {
          "output_type": "stream",
          "name": "stdout",
          "text": [
            "  purchase_date\n",
            "0      01/03/23\n",
            "1      02/03/23\n",
            "2      03/03/23\n",
            "3      04/03/23\n",
            "4      05/03/23\n",
            "5      06/03/23\n",
            "6      07/03/23\n",
            "7      08/03/23\n"
          ]
        }
      ]
    },
    {
      "cell_type": "code",
      "source": [
        "\n",
        "df = pd.DataFrame({'customer-id': [ 'C001',  'C002',  'C003', 'C001', 'C002',  'C004', 'C003', 'C005']})"
      ],
      "metadata": {
        "id": "HTcwgldmlLwn"
      },
      "execution_count": 24,
      "outputs": []
    },
    {
      "cell_type": "code",
      "source": [
        "df.loc[0, 'customer-id'] ='C000'\n",
        "df.loc[1, 'customer-id'] ='C001'\n",
        "df.loc[2, 'customer-id'] ='C002'\n",
        "df.loc[3, 'customer-id'] ='C003'\n",
        "df.loc[4, 'customer-id'] ='C004'\n",
        "df.loc[5, 'customer-id'] ='C005'\n",
        "df.loc[6, 'customer-id'] ='C006'\n",
        "df.loc[7, 'customer-id'] ='C007'"
      ],
      "metadata": {
        "id": "ChrPvMf4m8lK"
      },
      "execution_count": 25,
      "outputs": []
    },
    {
      "cell_type": "code",
      "source": [
        "print(df)"
      ],
      "metadata": {
        "colab": {
          "base_uri": "https://localhost:8080/"
        },
        "id": "vrrMtuVVoD5b",
        "outputId": "4a23e745-fff6-435d-99b1-0f04feeba39f"
      },
      "execution_count": 30,
      "outputs": [
        {
          "output_type": "stream",
          "name": "stdout",
          "text": [
            "  customer-id\n",
            "0        C000\n",
            "1        C001\n",
            "2        C002\n",
            "3        C003\n",
            "4        C004\n",
            "5        C005\n",
            "6        C006\n",
            "7        C007\n"
          ]
        }
      ]
    },
    {
      "cell_type": "markdown",
      "source": [
        "\n",
        "\n",
        "*   store(): akan menyimpan data yang telah ditransformasi ke dalam struktur data DataFramet.\n",
        "\n"
      ],
      "metadata": {
        "id": "OZCSHU6p-xHh"
      }
    },
    {
      "cell_type": "code",
      "source": [
        "\n",
        "# Data frame pertama\n",
        "df_customer_id = pd.DataFrame({'customer-id': ['C001', 'C002', 'C003', 'C004', 'C005', 'C006', 'C007', 'C008']})\n",
        "\n",
        "# Data frame kedua\n",
        "df_purchase_date = pd.DataFrame({'purchase_date': ['01/03/23', '02/03/23', '03/03/23', '04/03/23', '05/03/23', '06/03/23', '07/03/23', '08/03/23']})\n",
        "\n",
        "# Data frame ketiga\n",
        "df_product_category = pd.DataFrame({'product_category': ['Electronics', 'Books', 'Home & Garden', 'Books', 'Electronics', 'Electronics', 'Books', 'Beauty']})\n",
        "\n",
        "# Data frame ke empat\n",
        "df_amount_spent = pd.DataFrame({'amount_spent': ['250', '45.5', '150.75', '20', '525', '399.99', '10.5', '75']})\n",
        "\n",
        "# Menggabungkan ke empat data frame\n",
        "marketing_data = pd.concat([df_customer_id, df_purchase_date, df_product_category, df_amount_spent], axis=1)\n"
      ],
      "metadata": {
        "id": "oWG3ABbSyBOZ"
      },
      "execution_count": 39,
      "outputs": []
    },
    {
      "cell_type": "code",
      "source": [
        "print(marketing_data)"
      ],
      "metadata": {
        "colab": {
          "base_uri": "https://localhost:8080/"
        },
        "id": "WpiGq0HeyI0l",
        "outputId": "af67b23c-f815-493b-b8ac-7d8556fc3102"
      },
      "execution_count": 40,
      "outputs": [
        {
          "output_type": "stream",
          "name": "stdout",
          "text": [
            "  customer-id purchase_date product_category amount_spent\n",
            "0        C001      01/03/23      Electronics          250\n",
            "1        C002      02/03/23            Books         45.5\n",
            "2        C003      03/03/23    Home & Garden       150.75\n",
            "3        C004      04/03/23            Books           20\n",
            "4        C005      05/03/23      Electronics          525\n",
            "5        C006      06/03/23      Electronics       399.99\n",
            "6        C007      07/03/23            Books         10.5\n",
            "7        C008      08/03/23           Beauty           75\n"
          ]
        }
      ]
    },
    {
      "cell_type": "markdown",
      "source": [
        "##Task 2: Inheritance & Polymorphism"
      ],
      "metadata": {
        "id": "aXNQAgFBIzyq"
      }
    },
    {
      "cell_type": "markdown",
      "source": [
        "\n",
        "\n",
        "*   Gunakan inheritance untuk membuat class TargetedMarketingETL yang mewarisi dari MarketingDataETL.\n"
      ],
      "metadata": {
        "id": "2NEKCz5pIOqu"
      }
    },
    {
      "cell_type": "code",
      "source": [
        "class MarketingDataETL:\n",
        "    def __init__(self, customer_id, purchase_date, product_category, amount_spent):\n",
        "        self.customer_id = customer_id\n",
        "        self.purchase_date = purchase_date\n",
        "        self.product_category = product_category\n",
        "        self.amount_spent = amount_spent\n",
        "\n",
        "class TargetedMarketingETL(MarketingDataETL):\n",
        "    def __init__(self, customer_id, purchase_date, product_category, amount_spent, target_group):\n",
        "        super().__init__(customer_id, purchase_date, product_category, amount_spent)\n",
        "        self.target_group = target_group\n",
        "\n",
        "# Data\n",
        "data = [\n",
        "    {'customer_id': 'C001', 'purchase_date': '01/03/23', 'product_category': 'Electronics', 'amount_spent': 250},\n",
        "    {'customer_id': 'C002', 'purchase_date': '02/03/23', 'product_category': 'Books', 'amount_spent': 45.5},\n",
        "    {'customer_id': 'C003', 'purchase_date': '03/03/23', 'product_category': 'Home & Garden', 'amount_spent': 150.75},\n",
        "    {'customer_id': 'C004', 'purchase_date': '04/03/23', 'product_category': 'Books', 'amount_spent': 20},\n",
        "    {'customer_id': 'C005', 'purchase_date': '05/03/23', 'product_category': 'Electronics', 'amount_spent': 525},\n",
        "    {'customer_id': 'C006', 'purchase_date': '06/03/23', 'product_category': 'Electronics', 'amount_spent': 399.99},\n",
        "    {'customer_id': 'C007', 'purchase_date': '07/03/23', 'product_category': 'Books', 'amount_spent': 10.5},\n",
        "    {'customer_id': 'C008', 'purchase_date': '08/03/23', 'product_category': 'Beauty', 'amount_spent': 75}\n",
        "]\n",
        "\n",
        "# List untuk menyimpan instance dari kelas TargetedMarketingETL\n",
        "targeted_marketing_data = []\n",
        "\n",
        "# Membuat instance dari kelas TargetedMarketingETL untuk setiap data dalam list data\n",
        "for entry in data:\n",
        "    targeted_marketing_data.append(\n",
        "        TargetedMarketingETL(\n",
        "            entry['customer_id'],\n",
        "            entry['purchase_date'],\n",
        "            entry['product_category'],\n",
        "            entry['amount_spent'],\n",
        "            'telah di beli oleh customer'\n",
        "        )\n",
        "    )\n",
        "#  penggunaan instance dari kelas TargetedMarketingETL\n",
        "for entry in targeted_marketing_data:\n",
        "    print(entry.customer_id, entry.purchase_date, entry.product_category, entry.amount_spent, entry.target_group)\n",
        "\n"
      ],
      "metadata": {
        "colab": {
          "base_uri": "https://localhost:8080/"
        },
        "id": "xdj7U8OG4Sua",
        "outputId": "43056c21-88e8-4c8d-a7ac-6d64833a2c46"
      },
      "execution_count": 9,
      "outputs": [
        {
          "output_type": "stream",
          "name": "stdout",
          "text": [
            "C001 01/03/23 Electronics 250 telah di beli oleh customer\n",
            "C002 02/03/23 Books 45.5 telah di beli oleh customer\n",
            "C003 03/03/23 Home & Garden 150.75 telah di beli oleh customer\n",
            "C004 04/03/23 Books 20 telah di beli oleh customer\n",
            "C005 05/03/23 Electronics 525 telah di beli oleh customer\n",
            "C006 06/03/23 Electronics 399.99 telah di beli oleh customer\n",
            "C007 07/03/23 Books 10.5 telah di beli oleh customer\n",
            "C008 08/03/23 Beauty 75 telah di beli oleh customer\n"
          ]
        }
      ]
    },
    {
      "cell_type": "markdown",
      "source": [
        "\n",
        "\n",
        "*   Tambahkan metode segment_customers() yang mengelompokkan pelanggan berdasarkan kriteria tertentu (misalnya, pengeluaran total atau kategori produk yang dibeli).\n",
        "\n"
      ],
      "metadata": {
        "id": "m41tyGR_Iae0"
      }
    },
    {
      "cell_type": "code",
      "source": [
        "class MarketingDataETL:\n",
        "    def __init__(self, customer_id, purchase_date, product_category, amount_spent):\n",
        "        self.customer_id = customer_id\n",
        "        self.purchase_date = purchase_date\n",
        "        self.product_category = product_category\n",
        "        self.amount_spent = amount_spent\n",
        "\n",
        "    def segment_customers(self, criteria):\n",
        "        if criteria == 'total_spending':\n",
        "            # Mengembalikan total pengeluaran pelanggan\n",
        "            return self.amount_spent\n",
        "        elif criteria == 'product_category':\n",
        "            # Mengembalikan kategori produk\n",
        "            return self.product_category\n",
        "        else:\n",
        "            return \"Kriteria segmentasi tidak valid\"\n",
        "\n",
        "# Data\n",
        "data = [\n",
        "    {'customer_id': 'C001', 'purchase_date': '01/03/23', 'product_category': 'Electronics', 'amount_spent': 250},\n",
        "    {'customer_id': 'C002', 'purchase_date': '02/03/23', 'product_category': 'Books', 'amount_spent': 45.5},\n",
        "    {'customer_id': 'C003', 'purchase_date': '03/03/23', 'product_category': 'Home & Garden', 'amount_spent': 150.75},\n",
        "    {'customer_id': 'C004', 'purchase_date': '04/03/23', 'product_category': 'Books', 'amount_spent': 20},\n",
        "    {'customer_id': 'C005', 'purchase_date': '05/03/23', 'product_category': 'Electronics', 'amount_spent': 525},\n",
        "    {'customer_id': 'C006', 'purchase_date': '06/03/23', 'product_category': 'Electronics', 'amount_spent': 399.99},\n",
        "    {'customer_id': 'C007', 'purchase_date': '07/03/23', 'product_category': 'Books', 'amount_spent': 10.5},\n",
        "    {'customer_id': 'C008', 'purchase_date': '08/03/23', 'product_category': 'Beauty', 'amount_spent': 75}\n",
        "]\n",
        "\n",
        "# Membuat instance dari kelas MarketingDataETL untuk setiap entri dalam list data\n",
        "marketing_data_instances = [MarketingDataETL(entry['customer_id'], entry['purchase_date'], entry['product_category'], entry['amount_spent']) for entry in data]\n",
        "\n",
        "# penggunaan metode segment_customers()\n",
        "segmentation_by_spending = [entry.segment_customers('total_spending') for entry in marketing_data_instances]\n",
        "print(\"Segmentasi pelanggan berdasarkan total pengeluaran:\")\n",
        "print(segmentation_by_spending)\n",
        "\n",
        "segmentation_by_category = [entry.segment_customers('product_category') for entry in marketing_data_instances]\n",
        "print(\"\\nSegmentasi pelanggan berdasarkan kategori produk:\")\n",
        "print(segmentation_by_category)\n"
      ],
      "metadata": {
        "colab": {
          "base_uri": "https://localhost:8080/"
        },
        "id": "4jE3Rsn2_uJU",
        "outputId": "48209767-6f13-4bc8-efa6-ef6768c8b5f2"
      },
      "execution_count": 53,
      "outputs": [
        {
          "output_type": "stream",
          "name": "stdout",
          "text": [
            "Segmentasi pelanggan berdasarkan total pengeluaran:\n",
            "[250, 45.5, 150.75, 20, 525, 399.99, 10.5, 75]\n",
            "\n",
            "Segmentasi pelanggan berdasarkan kategori produk:\n",
            "['Electronics', 'Books', 'Home & Garden', 'Books', 'Electronics', 'Electronics', 'Books', 'Beauty']\n"
          ]
        }
      ]
    },
    {
      "cell_type": "markdown",
      "source": [
        "\n",
        "\n",
        "*   Demonstrasi polymorphism dengan meng-override metode transform() dalam TargetedMarketingETL untuk menambahkan logika segmentasi pelanggan ke dalam proses transformasi.\n"
      ],
      "metadata": {
        "id": "TYl3k4AHInO3"
      }
    },
    {
      "cell_type": "code",
      "source": [
        "class MarketingDataETL:\n",
        "    def __init__(self, customer_id, purchase_date, product_category, amount_spent):\n",
        "        self.customer_id = customer_id\n",
        "        self.purchase_date = purchase_date\n",
        "        self.product_category = product_category\n",
        "        self.amount_spent = amount_spent\n",
        "\n",
        "    def transform(self):\n",
        "        # Metode transformasi umum untuk kelas MarketingDataETL\n",
        "        return f\"Transformasi data: {self.customer_id}, {self.purchase_date}, {self.product_category}, {self.amount_spent}\"\n",
        "\n",
        "class TargetedMarketingETL(MarketingDataETL):\n",
        "    def __init__(self, customer_id, purchase_date, product_category, amount_spent, target_group):\n",
        "        super().__init__(customer_id, purchase_date, product_category, amount_spent)\n",
        "        self.target_group = target_group\n",
        "\n",
        "    def transform(self):\n",
        "        # Override metode transformasi untuk kelas TargetedMarketingETL\n",
        "        segment_info = f\"Segmentasi pelanggan berdasarkan {self.target_group}\"\n",
        "        return f\"{super().transform()}, {segment_info}\"\n",
        "\n",
        "#  penggunaan metode transform() untuk kelas MarketingDataETL\n",
        "marketing_data_etl = MarketingDataETL('C001', '01/03/23', 'Electronics', 250)\n",
        "print(marketing_data_etl.transform())\n",
        "\n",
        "# penggunaan metode transform() untuk kelas TargetedMarketingETL\n",
        "targeted_marketing_etl = TargetedMarketingETL('C002', '02/03/23', 'Books', 45.5, 'total_spending')\n",
        "print(targeted_marketing_etl.transform())\n"
      ],
      "metadata": {
        "colab": {
          "base_uri": "https://localhost:8080/"
        },
        "id": "27g0uDQuBt2h",
        "outputId": "2bd2534b-f140-4eda-dfc4-bae1d718373e"
      },
      "execution_count": 54,
      "outputs": [
        {
          "output_type": "stream",
          "name": "stdout",
          "text": [
            "Transformasi data: C001, 01/03/23, Electronics, 250\n",
            "Transformasi data: C002, 02/03/23, Books, 45.5, Segmentasi pelanggan berdasarkan total_spending\n"
          ]
        }
      ]
    }
  ]
}